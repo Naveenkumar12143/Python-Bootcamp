{
 "cells": [
  {
   "cell_type": "markdown",
   "id": "23089dc1",
   "metadata": {},
   "source": [
    "# Question_1:  List sum\n",
    "Description\n",
    "\n",
    "Suppose you want to know the total score of the Indian cricket team in a given match. To do so, your task is\n",
    "to find the sum of all the scores of the Indian team players. The scores are provided as a list, with each \n",
    "element as an individual score of the players. Also, there is a condition that if the number of elements in \n",
    "the list is more than 11, then it is an invalid input and the output should be -1."
   ]
  },
  {
   "cell_type": "raw",
   "id": "fad4c299",
   "metadata": {},
   "source": [
    "Sample input_1:\n",
    "[11, 13, 101, 14, 33, 141]\n",
    "\n",
    "Sample output_1:\n",
    "313\n"
   ]
  },
  {
   "cell_type": "code",
   "execution_count": 1,
   "id": "6be9ab9c",
   "metadata": {},
   "outputs": [
    {
     "name": "stdout",
     "output_type": "stream",
     "text": [
      "[11, 13, 101, 14, 33, 141]\n",
      "313\n"
     ]
    }
   ],
   "source": [
    "# Solution_1: using builtin function sum()\n",
    "\n",
    "import ast\n",
    "input_list = ast.literal_eval(input())\n",
    "\n",
    "if len(input_list) < 11:\n",
    "    print(sum(input_list))\n",
    "else:\n",
    "    print(-1)"
   ]
  },
  {
   "cell_type": "code",
   "execution_count": 2,
   "id": "75b81462",
   "metadata": {},
   "outputs": [
    {
     "name": "stdout",
     "output_type": "stream",
     "text": [
      "[11, 13, 101, 14, 33, 141]\n",
      "313\n"
     ]
    }
   ],
   "source": [
    "# Solution_2: using loop \n",
    "import ast\n",
    "input_list = ast.literal_eval(input())\n",
    "total = 0\n",
    "\n",
    "if len(input_list) < 11:\n",
    "    for element in input_list:\n",
    "        total += element\n",
    "    print(total)\n",
    "else:\n",
    "    print(-1)"
   ]
  },
  {
   "cell_type": "code",
   "execution_count": 3,
   "id": "46ce425c",
   "metadata": {},
   "outputs": [
    {
     "name": "stdout",
     "output_type": "stream",
     "text": [
      "[11, 13, 101, 14, 33, 141]\n",
      "313\n"
     ]
    }
   ],
   "source": [
    "# Solution_3: Using user defined function\n",
    "import ast\n",
    "scores = ast.literal_eval(input())\n",
    "\n",
    "def calculate_score(scores):\n",
    "    if len(scores) > 11:\n",
    "        return -1\n",
    "    else:\n",
    "        return sum(scores)\n",
    "print(calculate_score(scores))"
   ]
  },
  {
   "cell_type": "markdown",
   "id": "931831e7",
   "metadata": {},
   "source": [
    "# Question_2: Length of list elements\n",
    "Description\n",
    "Given a list of strings, write a program to find the number of strings whose length is greater than or equal\n",
    "to K, where K is a positive integer."
   ]
  },
  {
   "cell_type": "markdown",
   "id": "00317199",
   "metadata": {},
   "source": [
    "Sample input_2:\n",
    "[Datascience, Data Analyst, Programmer, Manager]\n",
    "Sample output_2:\n",
    "3"
   ]
  },
  {
   "cell_type": "code",
   "execution_count": 1,
   "id": "5dd94bbb",
   "metadata": {},
   "outputs": [
    {
     "name": "stdout",
     "output_type": "stream",
     "text": [
      "['Datascience',' Data Analyst', 'Programmer', 'Manager']\n",
      "8\n",
      "3\n"
     ]
    }
   ],
   "source": [
    "# Solution_1: \n",
    "import ast\n",
    "input_list = ast.literal_eval(input())\n",
    "k = int(input())\n",
    "count = 0\n",
    "\n",
    "for i in input_list:\n",
    "    if len(i) >= k:\n",
    "        count += 1 \n",
    "print(count)"
   ]
  },
  {
   "cell_type": "markdown",
   "id": "df9670fb",
   "metadata": {},
   "source": [
    "# Question_3: Increment list elements\n",
    "Description\n",
    "\n",
    "Given a list of strings, increment the value of the numeric strings by 'k’.\n",
    "Hint: The function isdigit() may be useful here."
   ]
  },
  {
   "cell_type": "markdown",
   "id": "02fe1496",
   "metadata": {},
   "source": [
    "Sample input_1:\n",
    "['Python', '123', 'Data']\n",
    "4\n",
    "\n",
    "Sample output_1:\n",
    "['Python', '127', 'Data']"
   ]
  },
  {
   "cell_type": "code",
   "execution_count": 2,
   "id": "12213523",
   "metadata": {},
   "outputs": [
    {
     "name": "stdout",
     "output_type": "stream",
     "text": [
      "['Python', '123', 'Data']\n",
      "4\n",
      "['Python', '127', 'Data']\n"
     ]
    }
   ],
   "source": [
    "#Input has been taken for you\n",
    "import ast\n",
    "input_list = ast.literal_eval(input())\n",
    "K = int(input())\n",
    "#write the code\n",
    "def check(x,K):\n",
    "    for i in range(len(x)):\n",
    "        if x[i].isdigit():\n",
    "            x[i] = str(int(x[i])+K)\n",
    "        else:\n",
    "            continue\n",
    "    return x\n",
    "    \n",
    "modified_list = check(input_list,K)  \n",
    "print(modified_list)"
   ]
  },
  {
   "cell_type": "code",
   "execution_count": 3,
   "id": "0ef1531a",
   "metadata": {},
   "outputs": [
    {
     "name": "stdout",
     "output_type": "stream",
     "text": [
      "['Data Science', '100', '10']\n",
      "10\n",
      "['Data Science', '110', '20']\n"
     ]
    }
   ],
   "source": [
    "# Solution_2: conventional loop\n",
    "import ast\n",
    "input_list = ast.literal_eval(input())\n",
    "K = int(input())\n",
    "output_list = []\n",
    "\n",
    "for i in input_list:\n",
    "    if i.isdigit():\n",
    "        output_list.append(str(int(i)+K))\n",
    "    else:\n",
    "        output_list.append(i)\n",
    "print(output_list)"
   ]
  },
  {
   "cell_type": "markdown",
   "id": "a8b6259c",
   "metadata": {},
   "source": [
    "# Question_4: Slicing a list\n",
    "Description\n",
    "\n",
    "Given a list of strings and an integer K, write a python code to print all the elements from the K th position till the end of the list.\n",
    "Note: Assume that K (a positive integer) will always be less than or equal to the length of the list"
   ]
  },
  {
   "cell_type": "markdown",
   "id": "db7e6de5",
   "metadata": {},
   "source": [
    "Sample input_1:\n",
    "['Mumbai', 'Delhi', 'Australia', 'Nigeria', 'USA', 'London', 'Canada']\n",
    "2\n",
    "\n",
    "Sample output_1:\n",
    "['Delhi', 'Australia', 'Nigeria', 'USA', 'London', 'Canada']\n"
   ]
  },
  {
   "cell_type": "code",
   "execution_count": 4,
   "id": "79336bd4",
   "metadata": {},
   "outputs": [
    {
     "name": "stdout",
     "output_type": "stream",
     "text": [
      "['Chennai', 'Vizag', 'Austria', 'Germany', 'Japan']\n",
      "2\n",
      "['Vizag', 'Austria', 'Germany', 'Japan']\n"
     ]
    }
   ],
   "source": [
    "# Solution_1:\n",
    "import ast\n",
    "input_list = ast.literal_eval(input())\n",
    "K = int(input())\n",
    "output_list = input_list[K-1:]\n",
    "print(output_list)"
   ]
  },
  {
   "cell_type": "code",
   "execution_count": 4,
   "id": "210a3537",
   "metadata": {},
   "outputs": [
    {
     "name": "stdout",
     "output_type": "stream",
     "text": [
      "10 16 20\n"
     ]
    }
   ],
   "source": [
    "a=10\n",
    "b=16\n",
    "c=20\n",
    "print(a,b,c)"
   ]
  },
  {
   "cell_type": "code",
   "execution_count": 7,
   "id": "a9a43640",
   "metadata": {},
   "outputs": [
    {
     "name": "stdout",
     "output_type": "stream",
     "text": [
      "B\n"
     ]
    }
   ],
   "source": [
    "if True or True:\n",
    "    if False and True or False:\n",
    "        print('A')\n",
    "    elif False and False or True and True:\n",
    "        print('B')\n",
    "    else:\n",
    "        print('C')\n",
    "else:\n",
    "    print('D')"
   ]
  },
  {
   "cell_type": "code",
   "execution_count": null,
   "id": "167f434d",
   "metadata": {},
   "outputs": [],
   "source": []
  }
 ],
 "metadata": {
  "kernelspec": {
   "display_name": "Python 3 (ipykernel)",
   "language": "python",
   "name": "python3"
  },
  "language_info": {
   "codemirror_mode": {
    "name": "ipython",
    "version": 3
   },
   "file_extension": ".py",
   "mimetype": "text/x-python",
   "name": "python",
   "nbconvert_exporter": "python",
   "pygments_lexer": "ipython3",
   "version": "3.9.13"
  }
 },
 "nbformat": 4,
 "nbformat_minor": 5
}
