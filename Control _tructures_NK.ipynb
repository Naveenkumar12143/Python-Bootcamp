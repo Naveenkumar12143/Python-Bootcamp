{
 "cells": [
  {
   "cell_type": "markdown",
   "id": "be53ebe9",
   "metadata": {},
   "source": [
    "# Control Structures and Functions"
   ]
  },
  {
   "cell_type": "markdown",
   "id": "946c8790",
   "metadata": {},
   "source": [
    "Control structures are the essence of programming; they help computers do what they do best:\n",
    "automate repetitive tasks intelligently. The most common control structures are if-else statements"
   ]
  },
  {
   "cell_type": "markdown",
   "id": "73c284ea",
   "metadata": {},
   "source": [
    "# If statements"
   ]
  },
  {
   "cell_type": "code",
   "execution_count": null,
   "id": "b1cad6b6",
   "metadata": {},
   "outputs": [],
   "source": [
    "statements are imperative in Python and they help us build programs that could make decisions\n",
    "basedon a specified condition\n",
    "==> If I am tired, I'll go to bed\n",
    "==> If I am hungry, I'll order food\n",
    "*   Notice all these applications start with the word 'IF' and that is the first way we are going to control our applications.\n",
    "    And before writing down a code to mimic a decision, let us first look at the relational operators \n",
    "    that would help us test or define some kind of relation between two entities.\n",
    "    Relational operators are used to test equality or inequality of a condition and that \n",
    "    condition might change based on your preference."
   ]
  },
  {
   "cell_type": "markdown",
   "id": "14e8847c",
   "metadata": {},
   "source": [
    "# Double equal to operator"
   ]
  },
  {
   "cell_type": "code",
   "execution_count": 13,
   "id": "4e769f26",
   "metadata": {},
   "outputs": [
    {
     "data": {
      "text/plain": [
       "True"
      ]
     },
     "execution_count": 13,
     "metadata": {},
     "output_type": "execute_result"
    }
   ],
   "source": [
    "\n",
    "10 == 10"
   ]
  },
  {
   "cell_type": "code",
   "execution_count": 6,
   "id": "848918d5",
   "metadata": {},
   "outputs": [
    {
     "data": {
      "text/plain": [
       "False"
      ]
     },
     "execution_count": 6,
     "metadata": {},
     "output_type": "execute_result"
    }
   ],
   "source": [
    "10 == 5"
   ]
  },
  {
   "cell_type": "code",
   "execution_count": 9,
   "id": "ca39efef",
   "metadata": {},
   "outputs": [
    {
     "data": {
      "text/plain": [
       "10"
      ]
     },
     "execution_count": 9,
     "metadata": {},
     "output_type": "execute_result"
    }
   ],
   "source": [
    "#  ' = ' is an assignment operator; it is used to assign value to a variable on the left.\n",
    "a = 10\n",
    "a"
   ]
  },
  {
   "cell_type": "code",
   "execution_count": 10,
   "id": "1d7efe65",
   "metadata": {},
   "outputs": [
    {
     "data": {
      "text/plain": [
       "True"
      ]
     },
     "execution_count": 10,
     "metadata": {},
     "output_type": "execute_result"
    }
   ],
   "source": [
    "#  '==' is a relational operator; it is used for comparision of equality\n",
    "25 == 25"
   ]
  },
  {
   "cell_type": "code",
   "execution_count": 11,
   "id": "f47b57e8",
   "metadata": {},
   "outputs": [
    {
     "data": {
      "text/plain": [
       "False"
      ]
     },
     "execution_count": 11,
     "metadata": {},
     "output_type": "execute_result"
    }
   ],
   "source": [
    "#  '==' is a relational operator; it is used for comparision of equality\n",
    "10 == 20"
   ]
  },
  {
   "cell_type": "markdown",
   "id": "08135e72",
   "metadata": {},
   "source": [
    "# Not equal to operator"
   ]
  },
  {
   "cell_type": "code",
   "execution_count": 14,
   "id": "87ebd70a",
   "metadata": {},
   "outputs": [
    {
     "data": {
      "text/plain": [
       "True"
      ]
     },
     "execution_count": 14,
     "metadata": {},
     "output_type": "execute_result"
    }
   ],
   "source": [
    "10 != 5"
   ]
  },
  {
   "cell_type": "code",
   "execution_count": 15,
   "id": "dbdd1dd7",
   "metadata": {},
   "outputs": [
    {
     "data": {
      "text/plain": [
       "False"
      ]
     },
     "execution_count": 15,
     "metadata": {},
     "output_type": "execute_result"
    }
   ],
   "source": [
    "20 != 20"
   ]
  },
  {
   "cell_type": "markdown",
   "id": "e0f8d499",
   "metadata": {},
   "source": [
    "# Greater than operator"
   ]
  },
  {
   "cell_type": "code",
   "execution_count": 16,
   "id": "c1365eee",
   "metadata": {},
   "outputs": [
    {
     "data": {
      "text/plain": [
       "True"
      ]
     },
     "execution_count": 16,
     "metadata": {},
     "output_type": "execute_result"
    }
   ],
   "source": [
    "10 > 5"
   ]
  },
  {
   "cell_type": "code",
   "execution_count": 17,
   "id": "e2214bac",
   "metadata": {},
   "outputs": [
    {
     "data": {
      "text/plain": [
       "True"
      ]
     },
     "execution_count": 17,
     "metadata": {},
     "output_type": "execute_result"
    }
   ],
   "source": [
    "20 > 10"
   ]
  },
  {
   "cell_type": "markdown",
   "id": "12a28361",
   "metadata": {},
   "source": [
    "# Less than operator"
   ]
  },
  {
   "cell_type": "code",
   "execution_count": 18,
   "id": "fdf71049",
   "metadata": {},
   "outputs": [
    {
     "data": {
      "text/plain": [
       "True"
      ]
     },
     "execution_count": 18,
     "metadata": {},
     "output_type": "execute_result"
    }
   ],
   "source": [
    "50 < 100"
   ]
  },
  {
   "cell_type": "code",
   "execution_count": 20,
   "id": "746b361e",
   "metadata": {},
   "outputs": [
    {
     "data": {
      "text/plain": [
       "True"
      ]
     },
     "execution_count": 20,
     "metadata": {},
     "output_type": "execute_result"
    }
   ],
   "source": [
    "20 < 40"
   ]
  },
  {
   "cell_type": "code",
   "execution_count": null,
   "id": "9ab901cb",
   "metadata": {},
   "outputs": [],
   "source": [
    "# Greater than equal to operator"
   ]
  },
  {
   "cell_type": "code",
   "execution_count": 21,
   "id": "aaec8d8b",
   "metadata": {},
   "outputs": [
    {
     "data": {
      "text/plain": [
       "True"
      ]
     },
     "execution_count": 21,
     "metadata": {},
     "output_type": "execute_result"
    }
   ],
   "source": [
    "10 >= 6"
   ]
  },
  {
   "cell_type": "code",
   "execution_count": 22,
   "id": "40741fa2",
   "metadata": {},
   "outputs": [
    {
     "data": {
      "text/plain": [
       "True"
      ]
     },
     "execution_count": 22,
     "metadata": {},
     "output_type": "execute_result"
    }
   ],
   "source": [
    "20 >= 10"
   ]
  },
  {
   "cell_type": "code",
   "execution_count": 23,
   "id": "9cf5dd7e",
   "metadata": {},
   "outputs": [
    {
     "data": {
      "text/plain": [
       "False"
      ]
     },
     "execution_count": 23,
     "metadata": {},
     "output_type": "execute_result"
    }
   ],
   "source": [
    "5 >= 20"
   ]
  },
  {
   "cell_type": "markdown",
   "id": "d5bcc1a2",
   "metadata": {},
   "source": [
    "# Less than operator"
   ]
  },
  {
   "cell_type": "code",
   "execution_count": 24,
   "id": "f5584498",
   "metadata": {},
   "outputs": [
    {
     "data": {
      "text/plain": [
       "True"
      ]
     },
     "execution_count": 24,
     "metadata": {},
     "output_type": "execute_result"
    }
   ],
   "source": [
    "5 <= 10"
   ]
  },
  {
   "cell_type": "code",
   "execution_count": 25,
   "id": "8531f01f",
   "metadata": {},
   "outputs": [
    {
     "data": {
      "text/plain": [
       "True"
      ]
     },
     "execution_count": 25,
     "metadata": {},
     "output_type": "execute_result"
    }
   ],
   "source": [
    "20 <= 30"
   ]
  },
  {
   "cell_type": "code",
   "execution_count": 26,
   "id": "2a9a7535",
   "metadata": {},
   "outputs": [
    {
     "data": {
      "text/plain": [
       "False"
      ]
     },
     "execution_count": 26,
     "metadata": {},
     "output_type": "execute_result"
    }
   ],
   "source": [
    "10 <= 5"
   ]
  },
  {
   "cell_type": "code",
   "execution_count": 41,
   "id": "858f5296",
   "metadata": {},
   "outputs": [
    {
     "name": "stdout",
     "output_type": "stream",
     "text": [
      "Naveen\n"
     ]
    }
   ],
   "source": [
    "a = \"NavEEn\"\n",
    "print(a.title())\n"
   ]
  },
  {
   "cell_type": "code",
   "execution_count": 42,
   "id": "259d877b",
   "metadata": {},
   "outputs": [
    {
     "name": "stdout",
     "output_type": "stream",
     "text": [
      "['__add__', '__class__', '__contains__', '__delattr__', '__dir__', '__doc__', '__eq__', '__format__', '__ge__', '__getattribute__', '__getitem__', '__getnewargs__', '__gt__', '__hash__', '__init__', '__init_subclass__', '__iter__', '__le__', '__len__', '__lt__', '__mod__', '__mul__', '__ne__', '__new__', '__reduce__', '__reduce_ex__', '__repr__', '__rmod__', '__rmul__', '__setattr__', '__sizeof__', '__str__', '__subclasshook__', 'capitalize', 'casefold', 'center', 'count', 'encode', 'endswith', 'expandtabs', 'find', 'format', 'format_map', 'index', 'isalnum', 'isalpha', 'isascii', 'isdecimal', 'isdigit', 'isidentifier', 'islower', 'isnumeric', 'isprintable', 'isspace', 'istitle', 'isupper', 'join', 'ljust', 'lower', 'lstrip', 'maketrans', 'partition', 'removeprefix', 'removesuffix', 'replace', 'rfind', 'rindex', 'rjust', 'rpartition', 'rsplit', 'rstrip', 'split', 'splitlines', 'startswith', 'strip', 'swapcase', 'title', 'translate', 'upper', 'zfill']\n"
     ]
    }
   ],
   "source": [
    "b = str()\n",
    "print(dir(str()))"
   ]
  },
  {
   "cell_type": "code",
   "execution_count": 45,
   "id": "c584f1d5",
   "metadata": {},
   "outputs": [
    {
     "name": "stdout",
     "output_type": "stream",
     "text": [
      "[-100, -98, -96, -94, -92, -90, -88, -86, -84, -82, -80, -78, -76, -74, -72, -70, -68, -66, -64, -62, -60, -58, -56, -54, -52, -50, -48, -46, -44, -42, -40, -38, -36, -34, -32, -30, -28, -26, -24, -22, -20, -18, -16, -14, -12, -10, -8, -6, -4, -2]"
     ]
    }
   ],
   "source": [
    "l = []\n",
    "for i in range(-100, 0):\n",
    "    if(i % 2 == 0):\n",
    "        l.append(i)\n",
    "print(l,end= \"\")"
   ]
  },
  {
   "cell_type": "code",
   "execution_count": 1,
   "id": "7fbf85ba",
   "metadata": {},
   "outputs": [
    {
     "name": "stdout",
     "output_type": "stream",
     "text": [
      "0\n",
      "1\n",
      "2\n"
     ]
    }
   ],
   "source": [
    "d = {0: 'Fish', 1: 'Bird', 2: 'Mammal'}\n",
    "for i in d:\n",
    "    print(i)"
   ]
  },
  {
   "cell_type": "code",
   "execution_count": 19,
   "id": "b32c301f",
   "metadata": {},
   "outputs": [
    {
     "name": "stdout",
     "output_type": "stream",
     "text": [
      "279936\n"
     ]
    }
   ],
   "source": [
    "x = 6\n",
    "y = 7\n",
    "def squares(x,y):\n",
    "    return x**y\n",
    "print(squares(x,y))\n"
   ]
  },
  {
   "cell_type": "code",
   "execution_count": 20,
   "id": "3a4f573d",
   "metadata": {},
   "outputs": [
    {
     "ename": "SyntaxError",
     "evalue": "invalid syntax (340392871.py, line 1)",
     "output_type": "error",
     "traceback": [
      "\u001b[1;36m  File \u001b[1;32m\"C:\\Users\\HP\\AppData\\Local\\Temp\\ipykernel_108\\340392871.py\"\u001b[1;36m, line \u001b[1;32m1\u001b[0m\n\u001b[1;33m    func(x, y):\u001b[0m\n\u001b[1;37m               ^\u001b[0m\n\u001b[1;31mSyntaxError\u001b[0m\u001b[1;31m:\u001b[0m invalid syntax\n"
     ]
    }
   ],
   "source": [
    "func(x, y):\n",
    "    z = x * y + x + y\n",
    "\n",
    "func(2)"
   ]
  },
  {
   "cell_type": "code",
   "execution_count": 21,
   "id": "125ccbff",
   "metadata": {},
   "outputs": [
    {
     "data": {
      "text/plain": [
       "23"
      ]
     },
     "execution_count": 21,
     "metadata": {},
     "output_type": "execute_result"
    }
   ],
   "source": [
    "def func(x, y = 1):\n",
    "    z = x * y + x + y\n",
    "    return z\n",
    "\n",
    "func(2, func(3))"
   ]
  },
  {
   "cell_type": "code",
   "execution_count": 22,
   "id": "b941fddb",
   "metadata": {},
   "outputs": [
    {
     "ename": "TypeError",
     "evalue": "func() missing 1 required positional argument: 'y'",
     "output_type": "error",
     "traceback": [
      "\u001b[1;31m---------------------------------------------------------------------------\u001b[0m",
      "\u001b[1;31mTypeError\u001b[0m                                 Traceback (most recent call last)",
      "\u001b[1;32m~\\AppData\\Local\\Temp\\ipykernel_108\\3964590848.py\u001b[0m in \u001b[0;36m<module>\u001b[1;34m\u001b[0m\n\u001b[0;32m      3\u001b[0m     \u001b[1;32mreturn\u001b[0m \u001b[0mz\u001b[0m\u001b[1;33m\u001b[0m\u001b[1;33m\u001b[0m\u001b[0m\n\u001b[0;32m      4\u001b[0m \u001b[1;33m\u001b[0m\u001b[0m\n\u001b[1;32m----> 5\u001b[1;33m \u001b[0mfunc\u001b[0m\u001b[1;33m(\u001b[0m\u001b[1;36m2\u001b[0m\u001b[1;33m,\u001b[0m \u001b[0mfunc\u001b[0m\u001b[1;33m(\u001b[0m\u001b[1;36m3\u001b[0m\u001b[1;33m)\u001b[0m\u001b[1;33m)\u001b[0m\u001b[1;33m\u001b[0m\u001b[1;33m\u001b[0m\u001b[0m\n\u001b[0m",
      "\u001b[1;31mTypeError\u001b[0m: func() missing 1 required positional argument: 'y'"
     ]
    }
   ],
   "source": [
    "def func(x, y):\n",
    "    z = x * y + x + y\n",
    "    return z\n",
    "\n",
    "func(2, func(3))"
   ]
  },
  {
   "cell_type": "code",
   "execution_count": 23,
   "id": "a62891dd",
   "metadata": {},
   "outputs": [
    {
     "ename": "SyntaxError",
     "evalue": "invalid syntax (2442950264.py, line 6)",
     "output_type": "error",
     "traceback": [
      "\u001b[1;36m  File \u001b[1;32m\"C:\\Users\\HP\\AppData\\Local\\Temp\\ipykernel_108\\2442950264.py\"\u001b[1;36m, line \u001b[1;32m6\u001b[0m\n\u001b[1;33m    ans_list = [func(x) for  ______ ]\u001b[0m\n\u001b[1;37m                                    ^\u001b[0m\n\u001b[1;31mSyntaxError\u001b[0m\u001b[1;31m:\u001b[0m invalid syntax\n"
     ]
    }
   ],
   "source": [
    "L1 = [2, 7, 8, 10, 3]\n",
    "\n",
    "def func(y):\n",
    "    return ____- 2 * y - 2\n",
    "\n",
    "ans_list = [func(x) for  ______ ]\n",
    "ans_list"
   ]
  },
  {
   "cell_type": "code",
   "execution_count": 24,
   "id": "d91db898",
   "metadata": {},
   "outputs": [
    {
     "name": "stdout",
     "output_type": "stream",
     "text": [
      "[2, 4, 6, 8]\n"
     ]
    }
   ],
   "source": [
    "def multi(x):\n",
    "    return x*2\n",
    "\n",
    "list_numbers = [1,2,3,4]\n",
    "sample_map = map(multi, list_numbers)\n",
    "\n",
    "print(list(sample_map))"
   ]
  },
  {
   "cell_type": "code",
   "execution_count": 25,
   "id": "bc7492e1",
   "metadata": {},
   "outputs": [
    {
     "name": "stdout",
     "output_type": "stream",
     "text": [
      "[2, 4, 6, 8]\n"
     ]
    }
   ],
   "source": [
    "list_numbers = (1,2,3,4)\n",
    "sample_map = map(lambda x: x*2, list_numbers)\n",
    "print(list(sample_map))"
   ]
  },
  {
   "cell_type": "markdown",
   "id": "d2e25843",
   "metadata": {},
   "source": [
    "# if"
   ]
  },
  {
   "cell_type": "code",
   "execution_count": 3,
   "id": "d49e49b4",
   "metadata": {},
   "outputs": [],
   "source": [
    "# Now let's get back to writing a conditional statement with the 'if' condition\n",
    "# Write a program to check value in variable x is less than 99"
   ]
  },
  {
   "cell_type": "code",
   "execution_count": 12,
   "id": "642dcd2a",
   "metadata": {},
   "outputs": [
    {
     "name": "stdout",
     "output_type": "stream",
     "text": [
      "Enter any 44\n",
      "44 is less than 99\n"
     ]
    }
   ],
   "source": [
    "x = int(input(\"Enter any number\"))\n",
    "\n",
    "if x < n:\n",
    "    print(x,\"is less than 99\")\n",
    "elif x >n:\n",
    "    print(x,\"is greater than 99\")\n"
   ]
  },
  {
   "cell_type": "code",
   "execution_count": 13,
   "id": "685519cc",
   "metadata": {},
   "outputs": [
    {
     "name": "stdout",
     "output_type": "stream",
     "text": [
      "Madhu\n"
     ]
    }
   ],
   "source": [
    "a = 'Madhu'\n",
    "print(a)"
   ]
  },
  {
   "cell_type": "code",
   "execution_count": 14,
   "id": "3e9c65da",
   "metadata": {},
   "outputs": [
    {
     "name": "stdout",
     "output_type": "stream",
     "text": [
      "v.Madhu\n"
     ]
    }
   ],
   "source": [
    "print('v.Madhu')"
   ]
  },
  {
   "cell_type": "code",
   "execution_count": null,
   "id": "daffca33",
   "metadata": {},
   "outputs": [],
   "source": [
    "name = input(\"Enter a name: \")\n",
    "print(a,name)\n"
   ]
  },
  {
   "cell_type": "code",
   "execution_count": null,
   "id": "65fccc22",
   "metadata": {},
   "outputs": [],
   "source": []
  },
  {
   "cell_type": "code",
   "execution_count": null,
   "id": "4ebb227d",
   "metadata": {},
   "outputs": [],
   "source": []
  },
  {
   "cell_type": "code",
   "execution_count": null,
   "id": "e8e5a13b",
   "metadata": {},
   "outputs": [],
   "source": []
  },
  {
   "cell_type": "code",
   "execution_count": null,
   "id": "9e6fd643",
   "metadata": {},
   "outputs": [],
   "source": []
  },
  {
   "cell_type": "code",
   "execution_count": null,
   "id": "c3835cc9",
   "metadata": {},
   "outputs": [],
   "source": []
  },
  {
   "cell_type": "code",
   "execution_count": null,
   "id": "5d42e576",
   "metadata": {},
   "outputs": [],
   "source": []
  },
  {
   "cell_type": "code",
   "execution_count": null,
   "id": "42dfe423",
   "metadata": {},
   "outputs": [],
   "source": []
  },
  {
   "cell_type": "code",
   "execution_count": null,
   "id": "c40d7294",
   "metadata": {},
   "outputs": [],
   "source": []
  }
 ],
 "metadata": {
  "kernelspec": {
   "display_name": "Python 3 (ipykernel)",
   "language": "python",
   "name": "python3"
  },
  "language_info": {
   "codemirror_mode": {
    "name": "ipython",
    "version": 3
   },
   "file_extension": ".py",
   "mimetype": "text/x-python",
   "name": "python",
   "nbconvert_exporter": "python",
   "pygments_lexer": "ipython3",
   "version": "3.9.13"
  }
 },
 "nbformat": 4,
 "nbformat_minor": 5
}
