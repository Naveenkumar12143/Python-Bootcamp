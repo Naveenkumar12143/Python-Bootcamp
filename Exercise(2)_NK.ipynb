{
 "cells": [
  {
   "cell_type": "code",
   "execution_count": 11,
   "id": "b53330ce",
   "metadata": {},
   "outputs": [
    {
     "name": "stdout",
     "output_type": "stream",
     "text": [
      "dict_keys([101, 102, 103, 104, 105, 106, 107, 108, 109, 110, 111, 112, 113, 115, 116, 117, 118, 119, 120, 121, 122, 123, 124, 125, 126, 127, 128, 129, 130, 131, 132, 133, 134, 135, 136, 137, 138, 139, 140, 141, 142, 143, 145, 146, 147, 148, 149, 150, 151, 152, 153, 154, 155, 156, 158, 160, 161, 162, 163, 164, 166, 167, 168, 169, 170, 171, 172, 173, 174, 175, 176, 177, 178, 179])\n",
      "dict_values([43, 25, 43, 31, 26, 28, 29, 43, 25, 22, 22, 25, 30, 45, 23, 29, 28, 30, 28, 42, 39, 29, 42, 43, 42, 40, 27, 23, 30, 37, 20, 36, 27, 27, 22, 28, 23, 45, 39, 29, 33, 39, 34, 26, 30, 38, 29, 24, 28, 34, 42, 29, 23, 31, 25, 45, 42, 27, 24, 20, 24, 28, 20, 33, 34, 37, 45, 35, 23, 44, 27, 30, 26, 27])\n"
     ]
    }
   ],
   "source": [
    "# Question:1 employee data with key as id of the employee and values as age of the employee\\n\n",
    "Employee_data ={101: 43, 102: 25, 103: 43, 104: 31, 105: 26, 106: 28, 107: 29, 108: 43, 109: 25, 110: 22, 111: 22, 112: 25,\n",
    "                113: 30, 115: 45, 116: 23, 117: 29, 118: 28, 119: 30, 120: 28, 121: 42, 122: 39, 123: 29, 124: 42, 125: 43,\n",
    "                126: 42, 127: 40, 128: 27, 129: 23, 130: 30, 131: 37, 132: 20, 133: 36, 134: 27, 135: 27, 136: 22, 137: 28, \n",
    "                138: 23, 139: 45, 140: 39, 141: 29, 142: 33, 143: 39, 145: 34, 146: 26, 147: 30, 148: 38, 149: 29, 150: 24,\n",
    "                151: 28, 152: 34, 153: 42, 154: 29, 155: 23, 156: 31, 158: 25, 160: 45, 161: 42, 162: 27, 163: 24, 164: 20, \n",
    "                166: 24, 167: 28, 168: 20, 169: 33, 170: 34, 171: 37, 172: 45, 173: 35, 174: 23, 175: 44, 176: 27, 177: 30, \n",
    "                178: 26, 179: 27}\n",
    "print(Employee_data.keys())\n",
    "\n",
    "print(Employee_data.values())"
   ]
  },
  {
   "cell_type": "code",
   "execution_count": 12,
   "id": "ff37e9e7",
   "metadata": {},
   "outputs": [
    {
     "name": "stdout",
     "output_type": "stream",
     "text": [
      "45\n"
     ]
    }
   ],
   "source": [
    "# Identify the senior most employees age\n",
    "# ==> way 1\n",
    "max(Employee_data.values())\n",
    "# ==> way 2\n",
    "print(sorted(Employee_data.values())[-1])"
   ]
  },
  {
   "cell_type": "code",
   "execution_count": 13,
   "id": "57b96a21",
   "metadata": {},
   "outputs": [
    {
     "name": "stdout",
     "output_type": "stream",
     "text": [
      "NA\n"
     ]
    }
   ],
   "source": [
    "# Question:2 Identify the age of the employee with employee id 159 [ If the employee isn't present return NA]\n",
    "if 159 in Employee_data:\n",
    "    print('Find')\n",
    "else:\n",
    "    print('NA')"
   ]
  },
  {
   "cell_type": "code",
   "execution_count": 14,
   "id": "6b9e8d3e",
   "metadata": {},
   "outputs": [
    {
     "name": "stdout",
     "output_type": "stream",
     "text": [
      "74\n"
     ]
    }
   ],
   "source": [
    "# Question:3 Count the total number of employee in the organization\n",
    "print(len(Employee_data))"
   ]
  },
  {
   "cell_type": "code",
   "execution_count": 21,
   "id": "182ad332",
   "metadata": {},
   "outputs": [
    {
     "name": "stdout",
     "output_type": "stream",
     "text": [
      "31.136986301369863\n"
     ]
    }
   ],
   "source": [
    "# Question:4 Calculate the mean age of the employees\n",
    "# ==> way 1\n",
    "sum (Employee_data.values())/74\n",
    "# ==> way 2\n",
    "print(sum(Employee_data.values())/len(Employee_data))\n"
   ]
  },
  {
   "cell_type": "code",
   "execution_count": 16,
   "id": "e11b1a41",
   "metadata": {},
   "outputs": [
    {
     "data": {
      "text/plain": [
       "31.243243243243242"
      ]
     },
     "execution_count": 16,
     "metadata": {},
     "output_type": "execute_result"
    }
   ],
   "source": [
    "# Question: 5 Perform the following two tasks and then calculate the updated mean age of the employees\\n\",\n",
    "# \"Task1 Update the ages of employee id - 104,140, and 164 as 27 <br>\\n\"\n",
    "# \"Task2 Remove the employ with employee id - 143 <br>\\n\",\n",
    "Employee_data[104] = 27  \n",
    "Employee_data[140] = 27\n",
    "Employee_data[164] = 27\n",
    "\n",
    "# del Employee_data[143]\n",
    "sum(Employee_data.values())/len(Employee_data)\n",
    "\n",
    "    "
   ]
  },
  {
   "cell_type": "code",
   "execution_count": 20,
   "id": "89a26ff1",
   "metadata": {},
   "outputs": [
    {
     "name": "stdout",
     "output_type": "stream",
     "text": [
      "Age of person with employee ID 104 is 27\n",
      "Age of person with employee ID 140 is 27\n",
      "Age of person with employee ID 164 is 27\n",
      "The average age of employees is 31.136986301369863\n"
     ]
    }
   ],
   "source": [
    "# Question: 5 Perform the following two tasks and then calculate the updated mean age of the employees\n",
    "# Type your code here\n",
    "# task 1 \n",
    "d1 = {104: 27, 140:27, 164:27}\n",
    "Employee_data.update(d1)\n",
    "#check the ages of these emplyees. \n",
    "print (\"Age of person with employee ID 104 is\",Employee_data[104])\n",
    "print (\"Age of person with employee ID 140 is\",Employee_data[140])\n",
    "print (\"Age of person with employee ID 164 is\",Employee_data[164])\n",
    "#task 2\n",
    "del Employee_data[143]\n",
    "# find the mean \n",
    "mean = sum(Employee_data.values()) / len(Employee_data)\n",
    "print (\"The average age of employees is\", mean)"
   ]
  }
 ],
 "metadata": {
  "kernelspec": {
   "display_name": "Python 3 (ipykernel)",
   "language": "python",
   "name": "python3"
  },
  "language_info": {
   "codemirror_mode": {
    "name": "ipython",
    "version": 3
   },
   "file_extension": ".py",
   "mimetype": "text/x-python",
   "name": "python",
   "nbconvert_exporter": "python",
   "pygments_lexer": "ipython3",
   "version": "3.9.13"
  }
 },
 "nbformat": 4,
 "nbformat_minor": 5
}
