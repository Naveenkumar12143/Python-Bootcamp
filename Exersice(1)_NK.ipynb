{
 "cells": [
  {
   "cell_type": "code",
   "execution_count": 24,
   "id": "80e2ebf3",
   "metadata": {},
   "outputs": [
    {
     "name": "stdout",
     "output_type": "stream",
     "text": [
      "63\n"
     ]
    }
   ],
   "source": [
    "# Question: 1 List of order ID’s which are processed \n",
    "processed_orders = [1152, 1154, 1155, 1156, 1157, 1160, 1161, 1162, 1166, 1169, 1170, 1172, 1176, 1050, 1178, 1051, 1052,\n",
    "                    1054, 1058, 1060, 1061, 1062, 1065, 1066, 1067, 1068, 1069, 1076, 1077, 1080, 1081, 1083, 1091,\n",
    "                    1085, 1088, 1089, 1131, 1092, 1094, 1095, 1099, 1102, 1103, 1104, 1106, 1107, 1108, 1109, \n",
    "                    1111, 1117, 1119, 1121, 1150, 1128, 1129, 1136, 1137, 1139, 1140, 1141, 1144, 1148, 1124]\n",
    "                \n",
    "print(len(processed_orders))"
   ]
  },
  {
   "cell_type": "code",
   "execution_count": 25,
   "id": "dab02268",
   "metadata": {},
   "outputs": [
    {
     "name": "stdout",
     "output_type": "stream",
     "text": [
      "66\n"
     ]
    }
   ],
   "source": [
    "# List of order ID’s which are returned                     \n",
    "returned_orders = [1153, 1158, 1159, 1163, 1164, 1165, 1167, 1168, 1171, 1173, 1174, 1175, 1177, 1053, 1055, 1056, 1057, \n",
    "                   1059, 1063, 1064, 1070, 1071, 1072, 1073, 1074, 1075, 1078, 1079, 1082, 1084, 1086, 1087, 1090, 1093,\n",
    "                   1096, 1097, 1098, 1100, 1101, 1105, 1110, 1112, 1113, 1114, 1115, 1116, 1118, 1120, 1122, 1123, 1125,\n",
    "                   1126, 1127, 1130, 1132, 1133, 1134, 1135, 1138, 1142, 1143, 1145, 1146, 1147, 1149, 1151]\n",
    "print(returned_orders)"
   ]
  },
  {
   "cell_type": "code",
   "execution_count": 26,
   "id": "873785c5",
   "metadata": {},
   "outputs": [
    {
     "name": "stdout",
     "output_type": "stream",
     "text": [
      "129\n"
     ]
    }
   ],
   "source": [
    "# Count the total number of orders [ Orders include both processed and returned orders]\n",
    "print(len(processed_orders+returned_orders))"
   ]
  },
  {
   "cell_type": "code",
   "execution_count": 27,
   "id": "9d2c6f32",
   "metadata": {},
   "outputs": [
    {
     "name": "stdout",
     "output_type": "stream",
     "text": [
      "1099\n"
     ]
    }
   ],
   "source": [
    "# Question: 2 In the total orders, identify the 50th order [ Note: Assume the order ID’s are being generated in a consecutive manner]\n",
    "a = (processed_orders+returned_orders)\n",
    "a.sort()\n",
    "print(a[49])"
   ]
  },
  {
   "cell_type": "code",
   "execution_count": 28,
   "id": "ccdf8eb7",
   "metadata": {},
   "outputs": [
    {
     "data": {
      "text/plain": [
       "True"
      ]
     },
     "execution_count": 28,
     "metadata": {},
     "output_type": "execute_result"
    }
   ],
   "source": [
    "# Question: 3 Is 50th order a returned order or processed order\n",
    "1099 in processed_orders"
   ]
  },
  {
   "cell_type": "code",
   "execution_count": 29,
   "id": "b27ef635",
   "metadata": {},
   "outputs": [
    {
     "data": {
      "text/plain": [
       "False"
      ]
     },
     "execution_count": 29,
     "metadata": {},
     "output_type": "execute_result"
    }
   ],
   "source": [
    "# Is 50th order a returned order or processed order\n",
    "1099 in returned_orders"
   ]
  },
  {
   "cell_type": "code",
   "execution_count": 13,
   "id": "2e50446c",
   "metadata": {
    "scrolled": false
   },
   "outputs": [
    {
     "name": "stdout",
     "output_type": "stream",
     "text": [
      "1178\n"
     ]
    }
   ],
   "source": [
    "# Question: 4 What is the last processed order ID ? [ Note: Assume the order ID’s are being generated in a consecutive manner]\n",
    "processed_orders.sort()\n",
    "print(processed_orders[-1])"
   ]
  },
  {
   "cell_type": "code",
   "execution_count": 14,
   "id": "73f8abbf",
   "metadata": {},
   "outputs": [
    {
     "name": "stdout",
     "output_type": "stream",
     "text": [
      "[1050, 1051, 1052, 1054]\n"
     ]
    }
   ],
   "source": [
    "# Question: 5 Identify the first 4 orders which are processed?\n",
    "processed_orders.sort()\n",
    "print(processed_orders[0:4])"
   ]
  }
 ],
 "metadata": {
  "kernelspec": {
   "display_name": "Python 3 (ipykernel)",
   "language": "python",
   "name": "python3"
  },
  "language_info": {
   "codemirror_mode": {
    "name": "ipython",
    "version": 3
   },
   "file_extension": ".py",
   "mimetype": "text/x-python",
   "name": "python",
   "nbconvert_exporter": "python",
   "pygments_lexer": "ipython3",
   "version": "3.9.13"
  }
 },
 "nbformat": 4,
 "nbformat_minor": 5
}
