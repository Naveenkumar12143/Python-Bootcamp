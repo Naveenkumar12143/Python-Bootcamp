{
 "cells": [
  {
   "cell_type": "code",
   "execution_count": 2,
   "id": "fc2d0dfc",
   "metadata": {},
   "outputs": [
    {
     "name": "stdout",
     "output_type": "stream",
     "text": [
      "134\n"
     ]
    }
   ],
   "source": [
    "# \"Question 1: Print a random integer between 100 and 135\"\n",
    "\n",
    "import random\n",
    "from random import randint\n",
    "print(randint(100,135))"
   ]
  },
  {
   "cell_type": "markdown",
   "id": "b7a7f46d",
   "metadata": {},
   "source": [
    "<!-- # Question 2: Create a list consisting of first 10 even numbers. -->"
   ]
  },
  {
   "cell_type": "code",
   "execution_count": 3,
   "id": "6a573b51",
   "metadata": {},
   "outputs": [
    {
     "name": "stdout",
     "output_type": "stream",
     "text": [
      "[0, 2, 4, 6, 8, 10, 12, 14, 16, 18]\n",
      "[0, 2, 4, 6, 8, 10, 12, 14, 16, 18]\n"
     ]
    }
   ],
   "source": [
    "# Question 2: Create a list consisting of first 10 even numbers.\n",
    "# ==>1 way \n",
    "evennumbers = [0,2,4,6,8,10,12,14,16,18]\n",
    "print(evennumbers)\n",
    "\n",
    "# ==>2 way\n",
    "Even_numbers =[]\n",
    "for num in range(0,20,2):\n",
    "    Even_numbers.append(num)\n",
    "print(Even_numbers)\n",
    "    "
   ]
  },
  {
   "cell_type": "code",
   "execution_count": 10,
   "id": "c1864cae",
   "metadata": {},
   "outputs": [
    {
     "name": "stdout",
     "output_type": "stream",
     "text": [
      "[2000, 'Naveen', 15, 'kumar']\n"
     ]
    }
   ],
   "source": [
    "# Question 3: Create a list in the following manner: [birthyear, firstname, birthdate, lastname]\n",
    "data = [2000,\"Naveen\",15,\"kumar\"]\n",
    "print(data)"
   ]
  },
  {
   "cell_type": "code",
   "execution_count": 36,
   "id": "ac204e44",
   "metadata": {},
   "outputs": [
    {
     "name": "stdout",
     "output_type": "stream",
     "text": [
      "[['Alex', 'Cody'], ['Mathematics,English'], [97, 95], [89, 92]]\n"
     ]
    }
   ],
   "source": [
    "# Question 4: Create a nested list which consist of 2 students and their scores in mathematics and english:\\n\n",
    "# The list should be such that it first stores the name of students followed by the subjects and then their \n",
    "# scores in nested lists\n",
    "list2=[['Alex','Cody'],['Mathematics,English'],[97,95],[89,92]]\n",
    "print(list2)\n"
   ]
  },
  {
   "cell_type": "code",
   "execution_count": 16,
   "id": "f1ce5ec2",
   "metadata": {},
   "outputs": [
    {
     "name": "stdout",
     "output_type": "stream",
     "text": [
      "True\n"
     ]
    }
   ],
   "source": [
    "# Question 5: Given below is a list, find out whether is has the letter 'k' in it and print the result as true or false.\n",
    "list3=[1,2,'r',7,'k',6,'o','h','d',5,9]\n",
    "print(\"k\" in list3)"
   ]
  },
  {
   "cell_type": "code",
   "execution_count": 17,
   "id": "b935634b",
   "metadata": {},
   "outputs": [
    {
     "name": "stdout",
     "output_type": "stream",
     "text": [
      "world\n"
     ]
    }
   ],
   "source": [
    "# Question 6: In the tuple given below, print the 3rd element.\n",
    "tuple1=(1,'hello','world','567')\n",
    "print(tuple1[2])   "
   ]
  },
  {
   "cell_type": "code",
   "execution_count": 20,
   "id": "f20de3c8",
   "metadata": {},
   "outputs": [
    {
     "name": "stdout",
     "output_type": "stream",
     "text": [
      "[1, 3, 25, 54, 67, 100]\n"
     ]
    }
   ],
   "source": [
    "# Question 7: Given below is a tuple. Sort the tuple and print the result.\n",
    "tuple2=(1,25,67,100,3,54)\n",
    "print(sorted(tuple2))"
   ]
  },
  {
   "cell_type": "code",
   "execution_count": 22,
   "id": "f4e5c188",
   "metadata": {},
   "outputs": [
    {
     "name": "stdout",
     "output_type": "stream",
     "text": [
      "7\n"
     ]
    }
   ],
   "source": [
    "# Question 8: Given below is a list, convert into a set and print the output also print the length of the set.\n",
    "list4=[1,2,4,6,3,2,5,4,7,4,6,5,3,2,2,1]\n",
    "a = set(list4)\n",
    "print(len(a))"
   ]
  },
  {
   "cell_type": "code",
   "execution_count": 33,
   "id": "0f3e1fcd",
   "metadata": {},
   "outputs": [
    {
     "name": "stdout",
     "output_type": "stream",
     "text": [
      "{1, 2, 3, 4, 5, 6, 7, 8, 9}\n",
      "{2, 3, 5}\n",
      "{1, 6, 7}\n",
      "{1, 4, 6, 7, 8, 9}\n"
     ]
    }
   ],
   "source": [
    "# Question 9: Given below are two sets, perform the operations given below\n",
    "a={1,2,3,5,6,7}\n",
    "b={4,5,8,9,2,3}\n",
    "print(a.union(b))\n",
    "print(a.intersection(b))\n",
    "print(a.difference(b))\n",
    "print(a.symmetric_difference(b))"
   ]
  },
  {
   "cell_type": "code",
   "execution_count": 35,
   "id": "3f37e87e",
   "metadata": {},
   "outputs": [
    {
     "name": "stdout",
     "output_type": "stream",
     "text": [
      "{'Sam': 21, 'Cody': 12, 'Addy': 3, 'Zach': 45, 'Amy': 6}\n"
     ]
    }
   ],
   "source": [
    "# Question 10: Create a dictionary that stores the names and roll numbers of 5 students as given below:\n",
    "dict= {\"Sam\":21,\n",
    "    \"Cody\": 12,\n",
    "    \"Addy\": 3,\n",
    "    \"Zach\": 45,\n",
    "    \"Amy\": 6\n",
    "      }\n",
    "print(dict)"
   ]
  },
  {
   "cell_type": "code",
   "execution_count": 37,
   "id": "b126794a",
   "metadata": {},
   "outputs": [
    {
     "name": "stdout",
     "output_type": "stream",
     "text": [
      "{'Sam': 21, 'Cody': 12, 'Addy': 3, 'Zach': 47, 'Amy': 6}\n"
     ]
    }
   ],
   "source": [
    "# Question 11: Due to admission of new students the roll number of zach has changed from 45 to 47.\n",
    "# Make the required changes and print the new dictionary\n",
    "dict= {\"Sam\":21,\n",
    "    \"Cody\": 12,\n",
    "    \"Addy\": 3,\n",
    "    \"Zach\": 45,\n",
    "    \"Amy\": 6\n",
    "      }\n",
    "dict[\"Zach\"] = 47\n",
    "print(dict)\n"
   ]
  },
  {
   "cell_type": "code",
   "execution_count": 46,
   "id": "ad63c88d",
   "metadata": {},
   "outputs": [
    {
     "name": "stdout",
     "output_type": "stream",
     "text": [
      "dict_values([21, 12, 3, 47, 6])\n",
      "['Addy', 'Amy', 'Cody', 'Sam', 'Zach']\n"
     ]
    }
   ],
   "source": [
    "# Question 12: Sort the dictionary according to roll number.\\n\n",
    "dict= {\"Sam\":21,\n",
    "    \"Cody\": 12,\n",
    "    \"Addy\": 3,\n",
    "    \"Zach\": 47,\n",
    "    \"Amy\": 6\n",
    "      }\n",
    "# print(dict.values())\n",
    "print(sorted(dict))\n"
   ]
  },
  {
   "cell_type": "code",
   "execution_count": null,
   "id": "cdcf8725",
   "metadata": {},
   "outputs": [],
   "source": []
  }
 ],
 "metadata": {
  "kernelspec": {
   "display_name": "Python 3 (ipykernel)",
   "language": "python",
   "name": "python3"
  },
  "language_info": {
   "codemirror_mode": {
    "name": "ipython",
    "version": 3
   },
   "file_extension": ".py",
   "mimetype": "text/x-python",
   "name": "python",
   "nbconvert_exporter": "python",
   "pygments_lexer": "ipython3",
   "version": "3.9.13"
  }
 },
 "nbformat": 4,
 "nbformat_minor": 5
}
