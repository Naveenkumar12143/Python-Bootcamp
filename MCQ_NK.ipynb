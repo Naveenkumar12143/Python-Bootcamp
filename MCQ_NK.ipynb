{
 "cells": [
  {
   "cell_type": "code",
   "execution_count": 2,
   "id": "5d41bfda",
   "metadata": {},
   "outputs": [
    {
     "ename": "TypeError",
     "evalue": "'str' object cannot be interpreted as an integer",
     "output_type": "error",
     "traceback": [
      "\u001b[1;31m---------------------------------------------------------------------------\u001b[0m",
      "\u001b[1;31mTypeError\u001b[0m                                 Traceback (most recent call last)",
      "\u001b[1;32m~\\AppData\\Local\\Temp\\ipykernel_7468\\3651688499.py\u001b[0m in \u001b[0;36m<module>\u001b[1;34m\u001b[0m\n\u001b[0;32m      1\u001b[0m \u001b[1;31m# What is the output of the following?\u001b[0m\u001b[1;33m\u001b[0m\u001b[1;33m\u001b[0m\u001b[0m\n\u001b[0;32m      2\u001b[0m \u001b[0ms\u001b[0m \u001b[1;33m=\u001b[0m \u001b[1;34m'a$b@c@d'\u001b[0m\u001b[1;33m\u001b[0m\u001b[1;33m\u001b[0m\u001b[0m\n\u001b[1;32m----> 3\u001b[1;33m \u001b[0mprint\u001b[0m\u001b[1;33m(\u001b[0m\u001b[0ms\u001b[0m\u001b[1;33m.\u001b[0m\u001b[0msplit\u001b[0m\u001b[1;33m(\u001b[0m\u001b[1;34m'@'\u001b[0m\u001b[1;33m,\u001b[0m\u001b[1;34m'$'\u001b[0m\u001b[1;33m)\u001b[0m\u001b[1;33m)\u001b[0m\u001b[1;33m\u001b[0m\u001b[1;33m\u001b[0m\u001b[0m\n\u001b[0m",
      "\u001b[1;31mTypeError\u001b[0m: 'str' object cannot be interpreted as an integer"
     ]
    }
   ],
   "source": [
    "# What is the output of the following?\n",
    "\n",
    "s = 'a$b@c@d'\n",
    "print(s.split('@','$'))\n"
   ]
  },
  {
   "cell_type": "code",
   "execution_count": 3,
   "id": "3b22724d",
   "metadata": {},
   "outputs": [
    {
     "data": {
      "text/plain": [
       "'banana'"
      ]
     },
     "execution_count": 3,
     "metadata": {},
     "output_type": "execute_result"
    }
   ],
   "source": [
    "# What is the code to print the element ‘banana’?\n",
    "\n",
    "fruits = ['apple', 'mango', ['grapes', 'papaya'], ('banana', 'pomegranate')]\n",
    "fruits[3][0]"
   ]
  },
  {
   "cell_type": "code",
   "execution_count": 4,
   "id": "692fe3aa",
   "metadata": {},
   "outputs": [
    {
     "name": "stdout",
     "output_type": "stream",
     "text": [
      "None\n"
     ]
    }
   ],
   "source": [
    "# Find the output of the following code.\n",
    "\n",
    "list_1 = ['red' , 'orange', 'blue', 'green', 'black', 'white']\n",
    "print(list_1.sort())"
   ]
  },
  {
   "cell_type": "code",
   "execution_count": 6,
   "id": "a136191b",
   "metadata": {},
   "outputs": [
    {
     "data": {
      "text/plain": [
       "[1, 2, 3, 8, 34, 76]"
      ]
     },
     "execution_count": 6,
     "metadata": {},
     "output_type": "execute_result"
    }
   ],
   "source": [
    "a = [1,2,3,8,34,76,]\n",
    "a.sort()\n",
    "a"
   ]
  },
  {
   "cell_type": "code",
   "execution_count": 11,
   "id": "14b41137",
   "metadata": {},
   "outputs": [
    {
     "data": {
      "text/plain": [
       "['Banana', 'apple', 'grapes', 'orange']"
      ]
     },
     "execution_count": 11,
     "metadata": {},
     "output_type": "execute_result"
    }
   ],
   "source": [
    "b = ['apple','Banana','grapes','orange']\n",
    "b.sort()\n",
    "b"
   ]
  },
  {
   "cell_type": "code",
   "execution_count": 13,
   "id": "7a01dd16",
   "metadata": {},
   "outputs": [
    {
     "name": "stdout",
     "output_type": "stream",
     "text": [
      "None\n"
     ]
    },
    {
     "data": {
      "text/plain": [
       "['Banana', 'apple', 'grapes', 'orange']"
      ]
     },
     "execution_count": 13,
     "metadata": {},
     "output_type": "execute_result"
    }
   ],
   "source": [
    "# Diffarence\n",
    "b = ['apple','Banana','grapes','orange']\n",
    "print(b.sort())"
   ]
  },
  {
   "cell_type": "code",
   "execution_count": 14,
   "id": "ec4a0481",
   "metadata": {},
   "outputs": [
    {
     "name": "stdout",
     "output_type": "stream",
     "text": [
      "[2, 4, 7, 9]\n",
      "[9, 4, 2, 7]\n",
      "None\n",
      "[1, 3, 6, 8]\n"
     ]
    }
   ],
   "source": [
    "# What will the output of the following code be?\n",
    "\n",
    "num_1=[9,4,2,7]\n",
    "num_2=[8,3,6,1]\n",
    "print(sorted(num_1))\n",
    "print(num_1)\n",
    "print(num_2.sort())\n",
    "print(num_2)"
   ]
  },
  {
   "cell_type": "markdown",
   "id": "6566fbcf",
   "metadata": {},
   "source": [
    "# Tuples"
   ]
  },
  {
   "cell_type": "code",
   "execution_count": 15,
   "id": "1d8ec78d",
   "metadata": {},
   "outputs": [
    {
     "name": "stdout",
     "output_type": "stream",
     "text": [
      "('paris', 'india', 'china', 'london', 'sri lanka')\n"
     ]
    }
   ],
   "source": [
    "# Find the output of the following code.\n",
    "\n",
    "l = ['paris','india','china','london']\n",
    "print(tuple(l+['sri lanka']))"
   ]
  },
  {
   "cell_type": "code",
   "execution_count": 16,
   "id": "9cdab274",
   "metadata": {},
   "outputs": [
    {
     "name": "stdout",
     "output_type": "stream",
     "text": [
      "<class 'int'>\n"
     ]
    }
   ],
   "source": [
    "# What is the output of the following code?\n",
    "\n",
    "var=(5)\n",
    "print(type(var))\n",
    " "
   ]
  },
  {
   "cell_type": "code",
   "execution_count": null,
   "id": "50fad21b",
   "metadata": {},
   "outputs": [],
   "source": [
    "# What is the output of the code given below?\n",
    "\n",
    "tup=([1,3,5],\"abcd\",(2,4),6)\n",
    "tup[0][2]=7\n",
    "print(tup)"
   ]
  },
  {
   "cell_type": "markdown",
   "id": "098bdc5e",
   "metadata": {},
   "source": [
    "# Sets"
   ]
  },
  {
   "cell_type": "code",
   "execution_count": 17,
   "id": "9bb5367d",
   "metadata": {},
   "outputs": [
    {
     "name": "stdout",
     "output_type": "stream",
     "text": [
      "{1, 2, 4}\n"
     ]
    }
   ],
   "source": [
    "# What will the output of the following code be?\n",
    "\n",
    "a= {1,2,4,5}\n",
    "b= {5,6,7,8}\n",
    "print(a-b)"
   ]
  },
  {
   "cell_type": "code",
   "execution_count": 18,
   "id": "53e25c96",
   "metadata": {},
   "outputs": [
    {
     "ename": "TypeError",
     "evalue": "unsupported operand type(s) for *: 'set' and 'int'",
     "output_type": "error",
     "traceback": [
      "\u001b[1;31m---------------------------------------------------------------------------\u001b[0m",
      "\u001b[1;31mTypeError\u001b[0m                                 Traceback (most recent call last)",
      "\u001b[1;32m~\\AppData\\Local\\Temp\\ipykernel_7468\\3365150796.py\u001b[0m in \u001b[0;36m<module>\u001b[1;34m\u001b[0m\n\u001b[0;32m      2\u001b[0m \u001b[1;33m\u001b[0m\u001b[0m\n\u001b[0;32m      3\u001b[0m \u001b[0ms\u001b[0m\u001b[1;33m=\u001b[0m \u001b[1;33m{\u001b[0m\u001b[1;36m3\u001b[0m\u001b[1;33m,\u001b[0m\u001b[1;36m4\u001b[0m\u001b[1;33m,\u001b[0m\u001b[1;36m5\u001b[0m\u001b[1;33m}\u001b[0m\u001b[1;33m\u001b[0m\u001b[1;33m\u001b[0m\u001b[0m\n\u001b[1;32m----> 4\u001b[1;33m \u001b[0ms\u001b[0m\u001b[1;33m*\u001b[0m\u001b[1;36m2\u001b[0m\u001b[1;33m\u001b[0m\u001b[1;33m\u001b[0m\u001b[0m\n\u001b[0m",
      "\u001b[1;31mTypeError\u001b[0m: unsupported operand type(s) for *: 'set' and 'int'"
     ]
    }
   ],
   "source": [
    "# What will the output of the following code be?\n",
    "\n",
    "s= {3,4,5}\n",
    "s*2"
   ]
  },
  {
   "cell_type": "code",
   "execution_count": 19,
   "id": "a3049f1f",
   "metadata": {},
   "outputs": [
    {
     "name": "stdout",
     "output_type": "stream",
     "text": [
      "Object `code` not found.\n",
      "5\n"
     ]
    }
   ],
   "source": [
    "What is the output of the following code?\n",
    "\n",
    "numbers= {1,0,6,1,4,0,7}\n",
    "print(len(numbers))"
   ]
  },
  {
   "cell_type": "markdown",
   "id": "691f7488",
   "metadata": {},
   "source": [
    "# Dictionaries"
   ]
  },
  {
   "cell_type": "code",
   "execution_count": 22,
   "id": "f6b1d1f5",
   "metadata": {},
   "outputs": [
    {
     "ename": "KeyError",
     "evalue": "1",
     "output_type": "error",
     "traceback": [
      "\u001b[1;31m---------------------------------------------------------------------------\u001b[0m",
      "\u001b[1;31mKeyError\u001b[0m                                  Traceback (most recent call last)",
      "\u001b[1;32m~\\AppData\\Local\\Temp\\ipykernel_7468\\3091755254.py\u001b[0m in \u001b[0;36m<module>\u001b[1;34m\u001b[0m\n\u001b[0;32m      2\u001b[0m \u001b[1;33m\u001b[0m\u001b[0m\n\u001b[0;32m      3\u001b[0m \u001b[0mdict\u001b[0m\u001b[1;33m=\u001b[0m \u001b[1;33m{\u001b[0m\u001b[1;34m'ab'\u001b[0m\u001b[1;33m:\u001b[0m\u001b[1;36m12\u001b[0m\u001b[1;33m,\u001b[0m\u001b[1;34m'cd'\u001b[0m\u001b[1;33m:\u001b[0m\u001b[1;36m34\u001b[0m\u001b[1;33m,\u001b[0m\u001b[1;34m'ef'\u001b[0m\u001b[1;33m:\u001b[0m\u001b[1;36m56\u001b[0m\u001b[1;33m}\u001b[0m\u001b[1;33m\u001b[0m\u001b[1;33m\u001b[0m\u001b[0m\n\u001b[1;32m----> 4\u001b[1;33m \u001b[0mprint\u001b[0m\u001b[1;33m(\u001b[0m\u001b[0mdict\u001b[0m\u001b[1;33m[\u001b[0m\u001b[1;36m1\u001b[0m\u001b[1;33m]\u001b[0m\u001b[1;33m)\u001b[0m\u001b[1;33m\u001b[0m\u001b[1;33m\u001b[0m\u001b[0m\n\u001b[0m\u001b[0;32m      5\u001b[0m \u001b[1;33m\u001b[0m\u001b[0m\n",
      "\u001b[1;31mKeyError\u001b[0m: 1"
     ]
    }
   ],
   "source": [
    "# What will the output of the following Python code be?\n",
    "\n",
    "dict= {'ab':12,'cd':34,'ef':56}\n",
    "print(dict[1])\n",
    " "
   ]
  },
  {
   "cell_type": "code",
   "execution_count": 23,
   "id": "bcc95ca3",
   "metadata": {},
   "outputs": [
    {
     "name": "stdout",
     "output_type": "stream",
     "text": [
      "dict_keys(['John', 'Alex'])\n"
     ]
    }
   ],
   "source": [
    "# What will the output of the following code be?  \n",
    "\n",
    "marks= {'John':45,'Alex':60}\n",
    "print(marks.keys())"
   ]
  },
  {
   "cell_type": "code",
   "execution_count": 29,
   "id": "7526a22f",
   "metadata": {},
   "outputs": [
    {
     "data": {
      "text/plain": [
       "True"
      ]
     },
     "execution_count": 29,
     "metadata": {},
     "output_type": "execute_result"
    }
   ],
   "source": [
    "# What is the output of the following code?\n",
    "\n",
    "d = {\"Python\":40, \"R\":45}\n",
    "\"Python\" in d"
   ]
  },
  {
   "cell_type": "markdown",
   "id": "39903a4f",
   "metadata": {},
   "source": [
    "# Looping through data structures"
   ]
  },
  {
   "cell_type": "code",
   "execution_count": 33,
   "id": "5ab1e05b",
   "metadata": {
    "scrolled": true
   },
   "outputs": [
    {
     "name": "stdout",
     "output_type": "stream",
     "text": [
      "1\n",
      "2\n",
      "3\n"
     ]
    }
   ],
   "source": [
    "# What will the output of the following code be?\n",
    "\n",
    "input_dict= {1:\"one\",2:\"two\",3:\"three\"}\n",
    "for i in input_dict:\n",
    "  print(i)"
   ]
  },
  {
   "cell_type": "code",
   "execution_count": 35,
   "id": "36926e90",
   "metadata": {},
   "outputs": [
    {
     "name": "stdout",
     "output_type": "stream",
     "text": [
      "8\n"
     ]
    }
   ],
   "source": [
    "# Find the output of the following code snippet.\n",
    "\n",
    "input_str=\"I love programming in python\"\n",
    "count=0\n",
    "l=['a','e','i','o','u']\n",
    "for i in input_str.lower():\n",
    "  if i in l:\n",
    "  \tcount=count+1\n",
    "print(count)"
   ]
  }
 ],
 "metadata": {
  "kernelspec": {
   "display_name": "Python 3 (ipykernel)",
   "language": "python",
   "name": "python3"
  },
  "language_info": {
   "codemirror_mode": {
    "name": "ipython",
    "version": 3
   },
   "file_extension": ".py",
   "mimetype": "text/x-python",
   "name": "python",
   "nbconvert_exporter": "python",
   "pygments_lexer": "ipython3",
   "version": "3.9.13"
  }
 },
 "nbformat": 4,
 "nbformat_minor": 5
}
