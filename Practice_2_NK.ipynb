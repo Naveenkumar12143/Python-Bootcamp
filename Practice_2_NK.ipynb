{
 "cells": [
  {
   "cell_type": "markdown",
   "id": "be7730b8",
   "metadata": {},
   "source": [
    "# 1) Write a program to display whether the input is a digit or a letter of the alphabet.\n"
   ]
  },
  {
   "cell_type": "markdown",
   "id": "3e63d1e8",
   "metadata": {},
   "source": [
    "Sample input:\n",
    "1\n",
    "Sample output:\n",
    "Integer\n",
    "Sample input:\n",
    "b\n",
    "Sample output:\n",
    "Alphabet"
   ]
  },
  {
   "cell_type": "code",
   "execution_count": 2,
   "id": "f64306f2",
   "metadata": {},
   "outputs": [
    {
     "name": "stdout",
     "output_type": "stream",
     "text": [
      "b\n",
      "Alphabet\n"
     ]
    }
   ],
   "source": [
    "# Take input\n",
    "inp = input( )\n",
    "# write your code here\n",
    "if (inp.isalpha()):\n",
    "    print(\"Alphabet\")\n",
    "else:\n",
    "    print(\"Integer\")\n",
    "\n"
   ]
  },
  {
   "cell_type": "markdown",
   "id": "444da8b6",
   "metadata": {},
   "source": [
    "# 2) Write a program to accept a character and display its next and previous character.\n"
   ]
  },
  {
   "cell_type": "markdown",
   "id": "da39b53f",
   "metadata": {},
   "source": [
    "Sample input:\n",
    "D\n",
    "Sample output:\n",
    "C\n",
    "E\n",
    "Sample input:\n",
    "8\n",
    "Sample output:\n",
    "7\n",
    "9"
   ]
  },
  {
   "cell_type": "code",
   "execution_count": 5,
   "id": "633ec954",
   "metadata": {},
   "outputs": [
    {
     "name": "stdout",
     "output_type": "stream",
     "text": [
      "8\n",
      "7\n",
      "9\n"
     ]
    }
   ],
   "source": [
    "# Take inputs\n",
    "num = input()\n",
    "# Write your code\n",
    "print(chr(ord(num)-1))\n",
    "print(chr(ord(num)+1))"
   ]
  },
  {
   "cell_type": "markdown",
   "id": "3ac2ec42",
   "metadata": {},
   "source": [
    "# 3) Write a program to accept a string from the user, delete all vowels from the string and display the result."
   ]
  },
  {
   "cell_type": "markdown",
   "id": "2b5235dd",
   "metadata": {},
   "source": [
    "Sample input:\n",
    "Upgrad\n",
    "Sample output:\n",
    "pgrd\n",
    "Sample input:\n",
    "Python Programming\n",
    "Sample output:\n",
    "Pythn Prgrmmng"
   ]
  },
  {
   "cell_type": "code",
   "execution_count": 6,
   "id": "ffe4d598",
   "metadata": {},
   "outputs": [
    {
     "name": "stdout",
     "output_type": "stream",
     "text": [
      "Upgrad\n",
      "pgrd\n"
     ]
    }
   ],
   "source": [
    "# ==> way1\n",
    "# Take input\n",
    "s=input()\n",
    "s_new=''\n",
    "# Write your code here\n",
    "for i in range(len(s)):\n",
    "    if s[i] not in 'aeiouAEIOU':\n",
    "        s_new=s_new+s[i]\n",
    "        \n",
    "#Print the result\n",
    "print(s_new)\n",
    "\n",
    "# ==> way2\n",
    "# string = input()\n",
    "# x = ''\n",
    "\n",
    "# for i in string:\n",
    "#     if i not in 'aeiouAEIOU':\n",
    "#         x = x+i\n",
    "#     else:\n",
    "#         pass\n",
    "# print(x)"
   ]
  },
  {
   "cell_type": "markdown",
   "id": "666d8a2f",
   "metadata": {},
   "source": [
    "# 4) Write a program to accept three sides of a triangle as the input and print whether the triangle is valid or not."
   ]
  },
  {
   "cell_type": "markdown",
   "id": "87cd4a94",
   "metadata": {},
   "source": [
    "Sample input:\n",
    "3 4 5\n",
    "Sample output:\n",
    "Valid\n",
    "Sample input:\n",
    "1 4 5\n",
    "Sample output:\n",
    "Invalid\n"
   ]
  },
  {
   "cell_type": "code",
   "execution_count": 8,
   "id": "8f83448d",
   "metadata": {},
   "outputs": [
    {
     "name": "stdout",
     "output_type": "stream",
     "text": [
      "3 4 5\n",
      "Valid\n"
     ]
    }
   ],
   "source": [
    "# Take input\n",
    "a,b,c= input().split()\n",
    "\n",
    "# Write your code here\n",
    "# Convert a,b,c into numeric type and check for the validity of triangle\n",
    "if a+b>c and b+c>a and c+a>b:\n",
    "    print('Invalid ')\n",
    "else:\n",
    "    print('Valid')\n",
    "#print result\n"
   ]
  }
 ],
 "metadata": {
  "kernelspec": {
   "display_name": "Python 3 (ipykernel)",
   "language": "python",
   "name": "python3"
  },
  "language_info": {
   "codemirror_mode": {
    "name": "ipython",
    "version": 3
   },
   "file_extension": ".py",
   "mimetype": "text/x-python",
   "name": "python",
   "nbconvert_exporter": "python",
   "pygments_lexer": "ipython3",
   "version": "3.9.13"
  }
 },
 "nbformat": 4,
 "nbformat_minor": 5
}
