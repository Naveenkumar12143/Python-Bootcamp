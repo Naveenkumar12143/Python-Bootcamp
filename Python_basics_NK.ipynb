{
 "cells": [
  {
   "cell_type": "code",
   "execution_count": 6,
   "id": "8c7b7d4d",
   "metadata": {},
   "outputs": [
    {
     "name": "stdout",
     "output_type": "stream",
     "text": [
      "Welcome to the practice exercise\n"
     ]
    }
   ],
   "source": [
    "# Question 1: Let us start by printing the word \\\"Welcome to the practice exercise\\\" in python.\n",
    "print(\"Welcome to the practice exercise\")"
   ]
  },
  {
   "cell_type": "code",
   "execution_count": 10,
   "id": "012910b5",
   "metadata": {},
   "outputs": [
    {
     "name": "stdout",
     "output_type": "stream",
     "text": [
      "Naveen Kumar\n"
     ]
    }
   ],
   "source": [
    "# Question 2: Create a string variable and print the string.\n",
    "str1 = \"Naveen Kumar\"\n",
    "print(str1)"
   ]
  },
  {
   "cell_type": "code",
   "execution_count": 16,
   "id": "33e77409",
   "metadata": {},
   "outputs": [
    {
     "name": "stdout",
     "output_type": "stream",
     "text": [
      "Enter your name?Naveen Kumar\n",
      "welcome to upGrad Naveen Kumar\n"
     ]
    }
   ],
   "source": [
    "# Question 3: Create a string by taking user input and print the string.\n",
    "str2 = input(\"Enter your name ?\")\n",
    "print(\"welcome to upGrad\" ,str2)\n",
    "\n"
   ]
  },
  {
   "cell_type": "code",
   "execution_count": 17,
   "id": "74d27dd1",
   "metadata": {},
   "outputs": [
    {
     "name": "stdout",
     "output_type": "stream",
     "text": [
      "['##########']\n"
     ]
    }
   ],
   "source": [
    "# Question 4: Print the pattern given below:\n",
    "\"\"\" ![image.png](data:image/png;base64,iVBORw0KGgoAAAANSUhEUgAAADIAAABFCAYAAAAIGLXIAAACvklEQVRoBe1abW7DIAzljJF6oSpXSY/SHWQ/\n",
    "egxPgA3GfAwxEO3kSVP4NLz3TGInNfBP/sw/wQEK5N2UVEVUkUUMqGstInbYrCoyTN2iiarIImKHzaoiPdS9HgcYY+D86hn9tzGLFHnBdTNwPC44PxmIVcKr8Px\n",
    "sINFJFEjkorO06IzQ6qoIMdF9VUWaVH2d7vlhnyH8f+XzZLEiTbhTOxXIVDonGFNFJpA41YQqMpXOCcZUkQkkTjWhikAShhxwfTOCvy84eHhyu+DFukORxtX6w8D\n",
    "fC4OK2PD8hCfa97l5rMtln3cD5k6jqdenw+f9BLMPCG0Gr45ZoQob4oAKIK7NArDKfgYQZJ6/SeHA3weI32jmOvwMCcatqx0PPDXvAsT5v9go8ypfdKDwDMmNy3o\n",
    "2ua9h8LB74w4EO/T1Je3NwZ8hPydNuCj5+kviNQykHwRAONglpFsVofs/f1bYMt2ZnCsx1luutxVIidnNbcOutXnf2fIKJKNkc4MqslmAbHlVJKNkc4MqslmAbP\n",
    "mqIj7rY2FG6aNmEqrExKoWGMag0H8AomDRyMAzsdv3VbgJJOQMGX4An7PHzZeGhDaeSEGeaDngFKeB+MqVzA0Ws8IgELuZThCA0W+y0XQuT4VLkbIF2iQVoP7jT\n",
    "GuwOtmxdMKFPwhwLlKNcGMuQjQmKQC6EbkdB0XjS23UR9emItGHWYhuZ2KYHoFW0t1MDVo22jCYcIUe6UoINKQIYWBaqAJJh4mNlnKIUpv0dzTqFCEFM1LQF\n",
    "SnXuV3wbHkH2uwEIvwcXSt5U1UAUvJ3kIzbjTgw7fdi5HopwbHWBwTljca8QtK1Yt0uIO4+tGZmCyBRiMbh1fWFG4XoZNUKEHQlklf6sTOQPgtSEO3N0RkLZ\n",
    "5DcrMMu23tSrABJxnxERYG8m0yqiCqyiAF1rUXEDpv9AT7GtDRI+0oLAAAAAElFTkSuQmCC)\"\"\"\n"
   ]
  },
  {
   "cell_type": "code",
   "execution_count": 22,
   "id": "0b6d3c9c",
   "metadata": {},
   "outputs": [
    {
     "name": "stdout",
     "output_type": "stream",
     "text": [
      "###############\n"
     ]
    }
   ],
   "source": [
    "# Question 5: Print the '#' symbol 15 times without having to type it for 15 times.\n",
    "var1 = (\"#\" * 15)\n",
    "print(var1)"
   ]
  },
  {
   "cell_type": "code",
   "execution_count": 26,
   "id": "64e8416b",
   "metadata": {},
   "outputs": [
    {
     "name": "stdout",
     "output_type": "stream",
     "text": [
      "Enter current date19-01-2023\n",
      "19-01-2023\n"
     ]
    }
   ],
   "source": [
    "# Question 6: Take the user input to print the current date\n",
    "date = input(\"Enter current date\")\n",
    "print(date)"
   ]
  },
  {
   "cell_type": "code",
   "execution_count": 28,
   "id": "1f419155",
   "metadata": {},
   "outputs": [
    {
     "name": "stdout",
     "output_type": "stream",
     "text": [
      "<class 'str'>\n"
     ]
    }
   ],
   "source": [
    "# Question 7: Type cast the interger 1.8 into a string and print the result.\n",
    "var3 = '1.8'\n",
    "string = str(var3)\n",
    "print(type(string))"
   ]
  },
  {
   "cell_type": "code",
   "execution_count": 30,
   "id": "53155ead",
   "metadata": {},
   "outputs": [
    {
     "name": "stdout",
     "output_type": "stream",
     "text": [
      "Enter the first number5\n",
      "Enter the Second number4\n",
      "20\n"
     ]
    }
   ],
   "source": [
    "# Question 8: Find the product of two numbers input by the user.\n",
    "int1 = input(\"Enter the first number\")\n",
    "int2 = input(\"Enter the Second number\")\n",
    "print(int(int1) * int(int2))"
   ]
  },
  {
   "cell_type": "code",
   "execution_count": 35,
   "id": "1de26556",
   "metadata": {},
   "outputs": [
    {
     "name": "stdout",
     "output_type": "stream",
     "text": [
      "remainder is 2\n"
     ]
    }
   ],
   "source": [
    "# Question 9: Calculate the remainder of the number 6 when divided by the number 4.\n",
    "num = (6%4)\n",
    "print(\"remainder is\",num)"
   ]
  },
  {
   "cell_type": "code",
   "execution_count": 55,
   "id": "de71c996",
   "metadata": {},
   "outputs": [
    {
     "ename": "SyntaxError",
     "evalue": "invalid syntax (1343499582.py, line 3)",
     "output_type": "error",
     "traceback": [
      "\u001b[1;36m  File \u001b[1;32m\"C:\\Users\\HP\\AppData\\Local\\Temp\\ipykernel_8824\\1343499582.py\"\u001b[1;36m, line \u001b[1;32m3\u001b[0m\n\u001b[1;33m    a = ('I can\\\\'t study any longer')\u001b[0m\n\u001b[1;37m                  ^\u001b[0m\n\u001b[1;31mSyntaxError\u001b[0m\u001b[1;31m:\u001b[0m invalid syntax\n"
     ]
    }
   ],
   "source": [
    "# Question 10: Solve the error in code below and print the correct result.\n",
    "# \"I can't study any longer\"\n",
    "a = ('I can\\\\'t study any longer')\n",
    "print(a)\n"
   ]
  },
  {
   "cell_type": "code",
   "execution_count": 54,
   "id": "f4f20009",
   "metadata": {},
   "outputs": [
    {
     "name": "stdout",
     "output_type": "stream",
     "text": [
      "Hello\\nGood Morning\n"
     ]
    }
   ],
   "source": [
    "# Question 11: Print the following statement using only 1 print statement:\\n\"\n",
    "# Hello Good Morning\n",
    "print('Hello\\\\nGood Morning')\n",
    "    "
   ]
  },
  {
   "cell_type": "code",
   "execution_count": 57,
   "id": "8d1573e5",
   "metadata": {},
   "outputs": [
    {
     "name": "stdout",
     "output_type": "stream",
     "text": [
      "welcome to upGradcoding practice session\n"
     ]
    }
   ],
   "source": [
    "# Question 12: Concatenate the given strings and print the result:\n",
    "str1 = 'welcome to upGrad'\n",
    "str2 = 'coding practice session'\n",
    "print(str1 + str2)"
   ]
  },
  {
   "cell_type": "code",
   "execution_count": 59,
   "id": "4ebafdee",
   "metadata": {},
   "outputs": [
    {
     "name": "stdout",
     "output_type": "stream",
     "text": [
      "54\n"
     ]
    }
   ],
   "source": [
    "# Question 13: Find the length of string given below and print the result.\n",
    "string = 'Hi, I hope you are having a great learning experience '\n",
    "print(len(string))\n"
   ]
  },
  {
   "cell_type": "code",
   "execution_count": 64,
   "id": "9c355f9b",
   "metadata": {},
   "outputs": [
    {
     "name": "stdout",
     "output_type": "stream",
     "text": [
      "10\n",
      "tc\n"
     ]
    }
   ],
   "source": [
    "# Question 14: Create a string of length=10. Obtain the fifth and seventh character of the string.\n",
    "# Print the new string.Concatenate the characters and form a new string.\n",
    "a = 'Practice14'\n",
    "print(len(a))\n",
    "b = a[4]\n",
    "c = a[6]\n",
    "d = b+c\n",
    "print(d)\n",
    "\n"
   ]
  },
  {
   "cell_type": "code",
   "execution_count": null,
   "id": "1f81bcb7",
   "metadata": {},
   "outputs": [],
   "source": [
    "# Question 15: Given below is a string. Perform the following operations and print the results:"
   ]
  },
  {
   "cell_type": "code",
   "execution_count": null,
   "id": "a7b83b11",
   "metadata": {},
   "outputs": [],
   "source": []
  },
  {
   "cell_type": "code",
   "execution_count": null,
   "id": "a4cfe8b0",
   "metadata": {},
   "outputs": [],
   "source": []
  }
 ],
 "metadata": {
  "kernelspec": {
   "display_name": "Python 3 (ipykernel)",
   "language": "python",
   "name": "python3"
  },
  "language_info": {
   "codemirror_mode": {
    "name": "ipython",
    "version": 3
   },
   "file_extension": ".py",
   "mimetype": "text/x-python",
   "name": "python",
   "nbconvert_exporter": "python",
   "pygments_lexer": "ipython3",
   "version": "3.9.13"
  }
 },
 "nbformat": 4,
 "nbformat_minor": 5
}
